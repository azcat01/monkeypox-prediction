{
 "cells": [
  {
   "cell_type": "code",
   "execution_count": 5,
   "metadata": {},
   "outputs": [],
   "source": [
    "import pandas as pd\n",
    "\n",
    "df = pd.read_csv('monkeypox.csv')\n",
    "df = df.values\n",
    "\n",
    "x = df[:, 1:-1]\n",
    "y = df[:, -1]"
   ]
  },
  {
   "cell_type": "code",
   "execution_count": 6,
   "metadata": {},
   "outputs": [],
   "source": [
    "from sklearn.preprocessing import LabelEncoder\n",
    "\n",
    "le = LabelEncoder()\n",
    "for i in range(1, 10):\n",
    "    df[:, i] = le.fit_transform(df[:, i])"
   ]
  },
  {
   "cell_type": "code",
   "execution_count": 7,
   "metadata": {},
   "outputs": [],
   "source": [
    "from sklearn.model_selection import train_test_split\n",
    "\n",
    "x_train = []\n",
    "x_test = []\n",
    "y_train = [] \n",
    "y_test = []\n",
    "\n",
    "for i in range(1, 6):\n",
    "    x_tr, x_ts, y_tr, y_ts = train_test_split(x, y, train_size=(1.0 - (i/10)), random_state=1)\n",
    "    x_train.append(x_tr)\n",
    "    x_test.append(x_ts)\n",
    "    y_train.append(y_tr)\n",
    "    y_test.append(y_ts)\n"
   ]
  },
  {
   "cell_type": "code",
   "execution_count": 8,
   "metadata": {},
   "outputs": [
    {
     "name": "stdout",
     "output_type": "stream",
     "text": [
      "Accuration rate for Naive Bayes:\n",
      "Train size 0.9 = 68.4%\n",
      "Train size 0.8 = 68.18%\n",
      "Train size 0.7 = 67.92%\n",
      "Train size 0.6 = 67.75%\n",
      "Train size 0.5 = 68.048%\n"
     ]
    }
   ],
   "source": [
    "from sklearn.naive_bayes import GaussianNB\n",
    "\n",
    "gnb = GaussianNB()\n",
    "\n",
    "print(\"Accuration rate for Naive Bayes:\")\n",
    "for i in range(5):\n",
    "    gnb.fit(x_train[i], y_train[i])\n",
    "    y_predict = gnb.predict(x_test[i])\n",
    "    error = ((y_test[i] != y_predict).sum()/len(y_predict)*100)\n",
    "    akurasi = str(100 - error) + \"%\"\n",
    "    print(f\"Train size {(1.0 - ((i+1)/10))} =\", akurasi)"
   ]
  }
 ],
 "metadata": {
  "kernelspec": {
   "display_name": "Python 3.10.4 64-bit",
   "language": "python",
   "name": "python3"
  },
  "language_info": {
   "codemirror_mode": {
    "name": "ipython",
    "version": 3
   },
   "file_extension": ".py",
   "mimetype": "text/x-python",
   "name": "python",
   "nbconvert_exporter": "python",
   "pygments_lexer": "ipython3",
   "version": "3.10.4"
  },
  "orig_nbformat": 4,
  "vscode": {
   "interpreter": {
    "hash": "3cbfbc52bef04970f4f29a02998ba71b2e4872b2d2c48a93ddc86906a11a0b0f"
   }
  }
 },
 "nbformat": 4,
 "nbformat_minor": 2
}
