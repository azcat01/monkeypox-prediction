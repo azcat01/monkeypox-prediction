{
 "cells": [
  {
   "cell_type": "code",
   "execution_count": 206,
   "metadata": {},
   "outputs": [],
   "source": [
    "import pandas as pd\n",
    "\n",
    "df = pd.read_csv('monkeypox.csv')\n",
    "df = df.values\n",
    "\n",
    "x = df[:, 1:-1]\n",
    "y = df[:, -1]"
   ]
  },
  {
   "cell_type": "code",
   "execution_count": 207,
   "metadata": {},
   "outputs": [],
   "source": [
    "from sklearn.preprocessing import LabelEncoder\n",
    "\n",
    "le = LabelEncoder()\n",
    "for i in range(1, 10):\n",
    "    df[:, i] = le.fit_transform(df[:, i])"
   ]
  },
  {
   "cell_type": "code",
   "execution_count": 208,
   "metadata": {},
   "outputs": [],
   "source": [
    "from sklearn.model_selection import train_test_split\n",
    "\n",
    "x_train = []\n",
    "x_test = []\n",
    "y_train = [] \n",
    "y_test = []\n",
    "\n",
    "x_train, x_test, y_train, y_test = train_test_split(x, y, train_size=0.7, random_state=10)"
   ]
  },
  {
   "cell_type": "code",
   "execution_count": 209,
   "metadata": {},
   "outputs": [
    {
     "name": "stdout",
     "output_type": "stream",
     "text": [
      "Accuration rate for Decision Tree:\n",
      "Train size 0.7 = 66.45333333333333%\n"
     ]
    }
   ],
   "source": [
    "from sklearn.tree import DecisionTreeClassifier\n",
    "\n",
    "clf = DecisionTreeClassifier()\n",
    "\n",
    "print(\"Accuration rate for Decision Tree:\")\n",
    "clf.fit(x_train, y_train)\n",
    "y_predict = clf.predict(x_test)\n",
    "error = ((y_test != y_predict).sum()/len(y_predict)*100)\n",
    "akurasi = str(100 - error) + \"%\"\n",
    "print(f\"Train size 0.7 =\", akurasi)"
   ]
  },
  {
   "cell_type": "markdown",
   "metadata": {},
   "source": [
    "K Fold DecisionTree"
   ]
  },
  {
   "cell_type": "code",
   "execution_count": 210,
   "metadata": {},
   "outputs": [
    {
     "name": "stdout",
     "output_type": "stream",
     "text": [
      "[0.6608 0.6758 0.6846 0.6744 0.6776]\n",
      "Akurasi Algoritma Decision Tree =  67.46399999999998%\n"
     ]
    }
   ],
   "source": [
    "from sklearn.model_selection import KFold\n",
    "from sklearn.model_selection import cross_val_score\n",
    "\n",
    "kfold_validation = KFold(5)\n",
    "\n",
    "print(cross_val_score(clf, x, y, cv=kfold_validation))\n",
    "result = cross_val_score(clf, x, y, cv=kfold_validation).mean()\n",
    "akurasi = str(result * 100) + \"%\"\n",
    "print(\"Akurasi Algoritma Decision Tree = \", akurasi)\n"
   ]
  },
  {
   "cell_type": "markdown",
   "metadata": {},
   "source": [
    "Precision, Recall, F1 Score"
   ]
  },
  {
   "cell_type": "code",
   "execution_count": 211,
   "metadata": {},
   "outputs": [
    {
     "name": "stdout",
     "output_type": "stream",
     "text": [
      "Accuracy = 66.45333333333333 %\n",
      "Precision = 62.97428174973605 %\n",
      "Recall =  60.86883959910283 %\n",
      "F1 score =  61.09225724785061 %\n"
     ]
    }
   ],
   "source": [
    "from sklearn.metrics import precision_score, recall_score, f1_score, accuracy_score\n",
    "\n",
    "accuracy = accuracy_score(y_test, y_predict)*100\n",
    "precision = precision_score(y_test, y_predict, average=\"macro\", zero_division=0)*100\n",
    "recall = recall_score(y_test, y_predict, average='macro', zero_division=0)*100\n",
    "f1score = f1_score(y_test, y_predict, average='macro', zero_division=0)*100\n",
    "\n",
    "print('Accuracy =', accuracy, \"%\")\n",
    "print('Precision =', precision, \"%\")\n",
    "print('Recall = ', recall, \"%\")\n",
    "print('F1 score = ', f1score, \"%\")"
   ]
  }
 ],
 "metadata": {
  "kernelspec": {
   "display_name": "Python 3.10.5 64-bit",
   "language": "python",
   "name": "python3"
  },
  "language_info": {
   "codemirror_mode": {
    "name": "ipython",
    "version": 3
   },
   "file_extension": ".py",
   "mimetype": "text/x-python",
   "name": "python",
   "nbconvert_exporter": "python",
   "pygments_lexer": "ipython3",
   "version": "3.10.5"
  },
  "orig_nbformat": 4,
  "vscode": {
   "interpreter": {
    "hash": "5e7257ba9fbb507c8ead2d5fd05e7903ce4453e351a1d93c8a0f64cb3a676180"
   }
  }
 },
 "nbformat": 4,
 "nbformat_minor": 2
}
