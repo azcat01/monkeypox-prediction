{
 "cells": [
  {
   "cell_type": "code",
   "execution_count": 1,
   "metadata": {},
   "outputs": [],
   "source": [
    "import pandas as pd\n",
    "\n",
    "df = pd.read_csv('monkeypox.csv')\n",
    "df = df.values\n",
    "\n",
    "x = df[:, 1:-1]\n",
    "y = df[:, -1]"
   ]
  },
  {
   "cell_type": "code",
   "execution_count": 2,
   "metadata": {},
   "outputs": [],
   "source": [
    "from sklearn.preprocessing import LabelEncoder\n",
    "\n",
    "le = LabelEncoder()\n",
    "df[:, 1] = le.fit_transform(df[:, 1])\n",
    "df[:, 2] = le.fit_transform(df[:, 2])\n",
    "df[:, 3] = le.fit_transform(df[:, 3])\n",
    "df[:, 4] = le.fit_transform(df[:, 4])\n",
    "df[:, 5] = le.fit_transform(df[:, 5])\n",
    "df[:, 6] = le.fit_transform(df[:, 6])\n",
    "df[:, 7] = le.fit_transform(df[:, 7])\n",
    "df[:, 8] = le.fit_transform(df[:, 8])\n",
    "df[:, 9] = le.fit_transform(df[:, 9])"
   ]
  },
  {
   "cell_type": "code",
   "execution_count": 3,
   "metadata": {},
   "outputs": [],
   "source": [
    "from sklearn.model_selection import train_test_split\n",
    "\n",
    "x_train, x_test, y_train, y_test = train_test_split(x, y, train_size=0.8, random_state=1)"
   ]
  },
  {
   "cell_type": "code",
   "execution_count": 4,
   "metadata": {},
   "outputs": [
    {
     "data": {
      "text/plain": [
       "'67.86%'"
      ]
     },
     "execution_count": 4,
     "metadata": {},
     "output_type": "execute_result"
    }
   ],
   "source": [
    "from sklearn.tree import DecisionTreeClassifier\n",
    "\n",
    "clf = DecisionTreeClassifier()\n",
    "clf.fit(x_train, y_train)\n",
    "y_predict = clf.predict(x_test)\n",
    "error = ((y_test != y_predict).sum()/len(y_predict)*100)\n",
    "akurasi = str(100 - error) + \"%\"\n",
    "akurasi"
   ]
  }
 ],
 "metadata": {
  "kernelspec": {
   "display_name": "Python 3.10.4 64-bit",
   "language": "python",
   "name": "python3"
  },
  "language_info": {
   "codemirror_mode": {
    "name": "ipython",
    "version": 3
   },
   "file_extension": ".py",
   "mimetype": "text/x-python",
   "name": "python",
   "nbconvert_exporter": "python",
   "pygments_lexer": "ipython3",
   "version": "3.10.4"
  },
  "orig_nbformat": 4,
  "vscode": {
   "interpreter": {
    "hash": "3cbfbc52bef04970f4f29a02998ba71b2e4872b2d2c48a93ddc86906a11a0b0f"
   }
  }
 },
 "nbformat": 4,
 "nbformat_minor": 2
}
