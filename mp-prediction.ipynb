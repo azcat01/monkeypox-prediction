{
 "cells": [
  {
   "cell_type": "code",
   "execution_count": 105,
   "metadata": {},
   "outputs": [],
   "source": [
    "import pandas as pd\n",
    "\n",
    "df = pd.read_csv('monkeypox.csv')\n",
    "df = df.values\n",
    "\n",
    "x = df[:, 1:-1]\n",
    "y = df[:, -1]"
   ]
  },
  {
   "cell_type": "code",
   "execution_count": 106,
   "metadata": {},
   "outputs": [],
   "source": [
    "from sklearn.preprocessing import LabelEncoder\n",
    "\n",
    "le = LabelEncoder()\n",
    "for i in range(1, 10):\n",
    "    df[:, i] = le.fit_transform(df[:, i])"
   ]
  },
  {
   "cell_type": "code",
   "execution_count": 107,
   "metadata": {},
   "outputs": [],
   "source": [
    "from sklearn.model_selection import train_test_split\n",
    "\n",
    "x_train = []\n",
    "x_test = []\n",
    "y_train = [] \n",
    "y_test = []\n",
    "\n",
    "for i in range(5):\n",
    "    x_tr, x_ts, y_tr, y_ts = train_test_split(x, y, train_size=(1.0 - ((i+1)/10)), random_state=10)\n",
    "    x_train.append(x_tr)\n",
    "    x_test.append(x_ts)\n",
    "    y_train.append(y_tr)\n",
    "    y_test.append(y_ts)\n"
   ]
  },
  {
   "cell_type": "code",
   "execution_count": 108,
   "metadata": {},
   "outputs": [
    {
     "name": "stdout",
     "output_type": "stream",
     "text": [
      "Accuration rate for Bernoulli Naive Bayes:\n",
      "1. Train size 0.9 = 66.4%\n",
      "2. Train size 0.8 = 66.92%\n",
      "3. Train size 0.7 = 66.84%\n",
      "4. Train size 0.6 = 67.4%\n",
      "5. Train size 0.5 = 67.44%\n"
     ]
    }
   ],
   "source": [
    "from sklearn.naive_bayes import BernoulliNB\n",
    "\n",
    "bnb = BernoulliNB()\n",
    "\n",
    "print(\"Accuration rate for Bernoulli Naive Bayes:\")\n",
    "for i in range(5):\n",
    "    bnb.fit(x_train[i], y_train[i])\n",
    "    y_predict = bnb.predict(x_test[i])\n",
    "    error = ((y_test[i] != y_predict).sum()/len(y_predict)*100)\n",
    "    akurasi = str(100 - error) + \"%\"\n",
    "    print(f\"{(i+1)}. Train size {(1.0 - ((i+1)/10))} =\", akurasi)"
   ]
  },
  {
   "cell_type": "code",
   "execution_count": 109,
   "metadata": {},
   "outputs": [
    {
     "name": "stdout",
     "output_type": "stream",
     "text": [
      "[0.6626 0.674  0.6742 0.6788 0.6756]\n",
      "Akurasi Algoritma Bernoulli =  67.304%\n"
     ]
    }
   ],
   "source": [
    "from sklearn.model_selection import KFold\n",
    "from sklearn.model_selection import cross_val_score\n",
    "\n",
    "kfold_validation = KFold(5)\n",
    "\n",
    "print(cross_val_score(bnb, x, y, cv=kfold_validation))\n",
    "result = cross_val_score(bnb, x, y, cv=kfold_validation).mean()\n",
    "akurasi = str(result * 100) + \"%\"\n",
    "print(\"Akurasi Algoritma Bernoulli = \", akurasi)"
   ]
  },
  {
   "cell_type": "code",
   "execution_count": 110,
   "metadata": {},
   "outputs": [
    {
     "name": "stdout",
     "output_type": "stream",
     "text": [
      "Accuration rate for Decision Tree:\n",
      "1. Train size 0.9 = 66.16%\n",
      "2. Train size 0.8 = 66.36%\n",
      "3. Train size 0.7 = 66.45333333333333%\n",
      "4. Train size 0.6 = 66.06%\n",
      "5. Train size 0.5 = 65.584%\n"
     ]
    }
   ],
   "source": [
    "from sklearn.tree import DecisionTreeClassifier\n",
    "\n",
    "clf = DecisionTreeClassifier()\n",
    "\n",
    "print(\"Accuration rate for Decision Tree:\")\n",
    "for i in range(5):\n",
    "    clf.fit(x_train[i], y_train[i])\n",
    "    y_predict = clf.predict(x_test[i])\n",
    "    error = ((y_test[i] != y_predict).sum()/len(y_predict)*100)\n",
    "    akurasi = str(100 - error) + \"%\"\n",
    "    print(f\"{(i+1)}. Train size {(1.0 - ((i+1)/10))} =\", akurasi)"
   ]
  },
  {
   "cell_type": "code",
   "execution_count": 111,
   "metadata": {},
   "outputs": [
    {
     "name": "stdout",
     "output_type": "stream",
     "text": [
      "[0.6608 0.6758 0.6846 0.6744 0.6776]\n",
      "Akurasi Algoritma Decision Tree =  67.46399999999998%\n"
     ]
    }
   ],
   "source": [
    "print(cross_val_score(clf, x, y, cv=kfold_validation))\n",
    "result = cross_val_score(clf, x, y, cv=kfold_validation).mean()\n",
    "akurasi = str(result * 100) + \"%\"\n",
    "print(\"Akurasi Algoritma Decision Tree = \", akurasi)"
   ]
  },
  {
   "cell_type": "code",
   "execution_count": 112,
   "metadata": {},
   "outputs": [
    {
     "name": "stdout",
     "output_type": "stream",
     "text": [
      "Accuration rate for K-Nearest Neighbors:\n",
      "1. Train size 0.9 = 68.56%\n",
      "2. Train size 0.8 = 69.08%\n",
      "3. Train size 0.7 = 69.02666666666667%\n",
      "4. Train size 0.6 = 69.0%\n",
      "5. Train size 0.5 = 69.088%\n"
     ]
    }
   ],
   "source": [
    "from sklearn.neighbors import KNeighborsClassifier\n",
    "\n",
    "knn = KNeighborsClassifier(n_neighbors=501)\n",
    "\n",
    "print(\"Accuration rate for K-Nearest Neighbors:\")\n",
    "for i in range(5):\n",
    "    knn.fit(x_train[i], y_train[i])\n",
    "    y_predict = knn.predict(x_test[i])\n",
    "    error = ((y_test[i] != y_predict).sum()/len(y_predict)*100)\n",
    "    akurasi = str(100 - error) + \"%\"\n",
    "    print(f\"{(i+1)}. Train size {(1.0 - ((i+1)/10))} =\", akurasi)"
   ]
  },
  {
   "cell_type": "code",
   "execution_count": 113,
   "metadata": {},
   "outputs": [
    {
     "name": "stdout",
     "output_type": "stream",
     "text": [
      "[0.687  0.6934 0.6986 0.6968 0.6888]\n",
      "Akurasi Algoritma K-Nearest Neighbor =  69.29200000000002%\n"
     ]
    }
   ],
   "source": [
    "print(cross_val_score(knn, x, y, cv=kfold_validation))\n",
    "result = cross_val_score(knn, x, y, cv=kfold_validation).mean()\n",
    "akurasi = str(result * 100) + \"%\"\n",
    "print(\"Akurasi Algoritma K-Nearest Neighbor = \", akurasi)"
   ]
  }
 ],
 "metadata": {
  "kernelspec": {
   "display_name": "Python 3.10.5 64-bit",
   "language": "python",
   "name": "python3"
  },
  "language_info": {
   "codemirror_mode": {
    "name": "ipython",
    "version": 3
   },
   "file_extension": ".py",
   "mimetype": "text/x-python",
   "name": "python",
   "nbconvert_exporter": "python",
   "pygments_lexer": "ipython3",
   "version": "3.10.5"
  },
  "orig_nbformat": 4,
  "vscode": {
   "interpreter": {
    "hash": "5e7257ba9fbb507c8ead2d5fd05e7903ce4453e351a1d93c8a0f64cb3a676180"
   }
  }
 },
 "nbformat": 4,
 "nbformat_minor": 2
}
