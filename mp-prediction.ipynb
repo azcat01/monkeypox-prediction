{
 "cells": [
  {
   "cell_type": "code",
   "execution_count": 12,
   "metadata": {},
   "outputs": [],
   "source": [
    "import pandas as pd\n",
    "\n",
    "df = pd.read_csv('monkeypox.csv')\n",
    "df = df.values\n",
    "\n",
    "x = df[:, 1:-1]\n",
    "y = df[:, -1]"
   ]
  },
  {
   "cell_type": "code",
   "execution_count": 24,
   "metadata": {},
   "outputs": [],
   "source": [
    "from sklearn.preprocessing import LabelEncoder\n",
    "\n",
    "le = LabelEncoder()\n",
    "for i in range(1, 10):\n",
    "    df[:, i] = le.fit_transform(df[:, i])"
   ]
  },
  {
   "cell_type": "code",
   "execution_count": 14,
   "metadata": {},
   "outputs": [],
   "source": [
    "from sklearn.model_selection import train_test_split\n",
    "\n",
    "x_train = []\n",
    "x_test = []\n",
    "y_train = [] \n",
    "y_test = []\n",
    "\n",
    "for i in range(5):\n",
    "    x_tr, x_ts, y_tr, y_ts = train_test_split(x, y, train_size=(1.0 - ((i+1)/10)), random_state=10)\n",
    "    x_train.append(x_tr)\n",
    "    x_test.append(x_ts)\n",
    "    y_train.append(y_tr)\n",
    "    y_test.append(y_ts)\n"
   ]
  },
  {
   "cell_type": "code",
   "execution_count": 15,
   "metadata": {},
   "outputs": [
    {
     "name": "stdout",
     "output_type": "stream",
     "text": [
      "Accuration rate for Bernoulli Naive Bayes:\n",
      "1. Train size 0.9 = 66.4%\n",
      "2. Train size 0.8 = 66.92%\n",
      "3. Train size 0.7 = 66.84%\n",
      "4. Train size 0.6 = 67.4%\n",
      "5. Train size 0.5 = 67.44%\n"
     ]
    }
   ],
   "source": [
    "from sklearn.naive_bayes import BernoulliNB\n",
    "\n",
    "gnb = BernoulliNB()\n",
    "\n",
    "print(\"Accuration rate for Bernoulli Naive Bayes:\")\n",
    "for i in range(5):\n",
    "    gnb.fit(x_train[i], y_train[i])\n",
    "    y_predict = gnb.predict(x_test[i])\n",
    "    error = ((y_test[i] != y_predict).sum()/len(y_predict)*100)\n",
    "    akurasi = str(100 - error) + \"%\"\n",
    "    print(f\"{(i+1)}. Train size {(1.0 - ((i+1)/10))} =\", akurasi)"
   ]
  },
  {
   "cell_type": "code",
   "execution_count": 16,
   "metadata": {},
   "outputs": [
    {
     "name": "stdout",
     "output_type": "stream",
     "text": [
      "Accuration rate for Gaussian Naive Bayes:\n",
      "1. Train size 0.9 = 67.32%\n",
      "2. Train size 0.8 = 67.56%\n",
      "3. Train size 0.7 = 67.94666666666666%\n",
      "4. Train size 0.6 = 68.21%\n",
      "5. Train size 0.5 = 68.176%\n"
     ]
    }
   ],
   "source": [
    "from sklearn.naive_bayes import GaussianNB\n",
    "\n",
    "gnb = GaussianNB()\n",
    "\n",
    "print(\"Accuration rate for Gaussian Naive Bayes:\")\n",
    "for i in range(5):\n",
    "    gnb.fit(x_train[i], y_train[i])\n",
    "    y_predict = gnb.predict(x_test[i])\n",
    "    error = ((y_test[i] != y_predict).sum()/len(y_predict)*100)\n",
    "    akurasi = str(100 - error) + \"%\"\n",
    "    print(f\"{(i+1)}. Train size {(1.0 - ((i+1)/10))} =\", akurasi)"
   ]
  },
  {
   "cell_type": "code",
   "execution_count": 17,
   "metadata": {},
   "outputs": [
    {
     "name": "stdout",
     "output_type": "stream",
     "text": [
      "Accuration rate for Multinomial Naive Bayes:\n",
      "1. Train size 0.9 = 63.96%\n",
      "2. Train size 0.8 = 63.279999999999994%\n",
      "3. Train size 0.7 = 63.440000000000005%\n",
      "4. Train size 0.6 = 63.62%\n",
      "5. Train size 0.5 = 63.647999999999996%\n"
     ]
    }
   ],
   "source": [
    "from sklearn.naive_bayes import MultinomialNB\n",
    "\n",
    "gnb = MultinomialNB()\n",
    "\n",
    "print(\"Accuration rate for Multinomial Naive Bayes:\")\n",
    "for i in range(5):\n",
    "    gnb.fit(x_train[i], y_train[i])\n",
    "    y_predict = gnb.predict(x_test[i])\n",
    "    error = ((y_test[i] != y_predict).sum()/len(y_predict)*100)\n",
    "    akurasi = str(100 - error) + \"%\"\n",
    "    print(f\"{(i+1)}. Train size {(1.0 - ((i+1)/10))} =\", akurasi)"
   ]
  },
  {
   "cell_type": "code",
   "execution_count": 18,
   "metadata": {},
   "outputs": [
    {
     "name": "stdout",
     "output_type": "stream",
     "text": [
      "Accuration rate for Decision Tree:\n",
      "1. Train size 0.9 = 66.16%\n",
      "2. Train size 0.8 = 66.36%\n",
      "3. Train size 0.7 = 66.45333333333333%\n",
      "4. Train size 0.6 = 66.06%\n",
      "5. Train size 0.5 = 65.584%\n"
     ]
    }
   ],
   "source": [
    "from sklearn.tree import DecisionTreeClassifier\n",
    "\n",
    "clf = DecisionTreeClassifier()\n",
    "\n",
    "print(\"Accuration rate for Decision Tree:\")\n",
    "for i in range(5):\n",
    "    clf.fit(x_train[i], y_train[i])\n",
    "    y_predict = clf.predict(x_test[i])\n",
    "    error = ((y_test[i] != y_predict).sum()/len(y_predict)*100)\n",
    "    akurasi = str(100 - error) + \"%\"\n",
    "    print(f\"{(i+1)}. Train size {(1.0 - ((i+1)/10))} =\", akurasi)"
   ]
  },
  {
   "cell_type": "code",
   "execution_count": 34,
   "metadata": {},
   "outputs": [
    {
     "name": "stdout",
     "output_type": "stream",
     "text": [
      "Accuration rate for K-Nearest Neighbors:\n",
      "1. Train size 0.9 = 68.56%\n",
      "2. Train size 0.8 = 69.08%\n",
      "3. Train size 0.7 = 69.02666666666667%\n",
      "4. Train size 0.6 = 69.0%\n",
      "5. Train size 0.5 = 69.088%\n"
     ]
    }
   ],
   "source": [
    "from sklearn.neighbors import KNeighborsClassifier\n",
    "\n",
    "clf = KNeighborsClassifier(n_neighbors=501)\n",
    "\n",
    "print(\"Accuration rate for K-Nearest Neighbors:\")\n",
    "for i in range(5):\n",
    "    clf.fit(x_train[i], y_train[i])\n",
    "    y_predict = clf.predict(x_test[i])\n",
    "    error = ((y_test[i] != y_predict).sum()/len(y_predict)*100)\n",
    "    akurasi = str(100 - error) + \"%\"\n",
    "    print(f\"{(i+1)}. Train size {(1.0 - ((i+1)/10))} =\", akurasi)"
   ]
  },
  {
   "cell_type": "code",
   "execution_count": 20,
   "metadata": {},
   "outputs": [
    {
     "name": "stdout",
     "output_type": "stream",
     "text": [
      "Accuration rate for Support Vector Machines:\n",
      "1. Train size 0.9 = 63.96%\n",
      "2. Train size 0.8 = 63.279999999999994%\n",
      "3. Train size 0.7 = 63.49333333333333%\n",
      "4. Train size 0.6 = 63.62%\n",
      "5. Train size 0.5 = 63.672000000000004%\n"
     ]
    }
   ],
   "source": [
    "from sklearn import svm\n",
    "\n",
    "clf = svm.SVC(kernel='linear')\n",
    "\n",
    "print(\"Accuration rate for Support Vector Machines:\")\n",
    "for i in range(5):\n",
    "    clf.fit(x_train[i], y_train[i])\n",
    "    y_predict = clf.predict(x_test[i])\n",
    "    error = ((y_test[i] != y_predict).sum()/len(y_predict)*100)\n",
    "    akurasi = str(100 - error) + \"%\"\n",
    "    print(f\"{(i+1)}. Train size {(1.0 - ((i+1)/10))} =\", akurasi)"
   ]
  },
  {
   "cell_type": "code",
   "execution_count": 21,
   "metadata": {},
   "outputs": [
    {
     "name": "stdout",
     "output_type": "stream",
     "text": [
      "Accuration rate for Logistic Regression:\n",
      "1. Train size 0.9 = 66.6%\n",
      "2. Train size 0.8 = 66.06%\n",
      "3. Train size 0.7 = 65.94666666666666%\n",
      "4. Train size 0.6 = 66.5%\n",
      "5. Train size 0.5 = 66.328%\n"
     ]
    }
   ],
   "source": [
    "from sklearn.linear_model import LogisticRegression\n",
    "\n",
    "clf = LogisticRegression()\n",
    "\n",
    "print(\"Accuration rate for Logistic Regression:\")\n",
    "for i in range(5):\n",
    "    clf.fit(x_train[i], y_train[i])\n",
    "    y_predict = clf.predict(x_test[i])\n",
    "    error = ((y_test[i] != y_predict).sum()/len(y_predict)*100)\n",
    "    akurasi = str(100 - error) + \"%\"\n",
    "    print(f\"{(i+1)}. Train size {(1.0 - ((i+1)/10))} =\", akurasi)"
   ]
  },
  {
   "cell_type": "code",
   "execution_count": 22,
   "metadata": {},
   "outputs": [
    {
     "name": "stdout",
     "output_type": "stream",
     "text": [
      "Accuration rate for Random Forest Classifier:\n",
      "1. Train size 0.9 = 66.72%\n",
      "2. Train size 0.8 = 66.76%\n",
      "3. Train size 0.7 = 67.10666666666665%\n",
      "4. Train size 0.6 = 66.58%\n",
      "5. Train size 0.5 = 66.112%\n"
     ]
    }
   ],
   "source": [
    "from sklearn.ensemble import RandomForestClassifier\n",
    "\n",
    "clf = RandomForestClassifier()\n",
    "\n",
    "print(\"Accuration rate for Random Forest Classifier:\")\n",
    "for i in range(5):\n",
    "    clf.fit(x_train[i], y_train[i])\n",
    "    y_predict = clf.predict(x_test[i])\n",
    "    error = ((y_test[i] != y_predict).sum()/len(y_predict)*100)\n",
    "    akurasi = str(100 - error) + \"%\"\n",
    "    print(f\"{(i+1)}. Train size {(1.0 - ((i+1)/10))} =\", akurasi)"
   ]
  }
 ],
 "metadata": {
  "kernelspec": {
   "display_name": "Python 3.10.2 64-bit",
   "language": "python",
   "name": "python3"
  },
  "language_info": {
   "codemirror_mode": {
    "name": "ipython",
    "version": 3
   },
   "file_extension": ".py",
   "mimetype": "text/x-python",
   "name": "python",
   "nbconvert_exporter": "python",
   "pygments_lexer": "ipython3",
   "version": "3.10.2"
  },
  "orig_nbformat": 4,
  "vscode": {
   "interpreter": {
    "hash": "57c0663fec85f8447f3066c17dd27bca8ac4eaf39b32d37f6ef5f167e932ae1e"
   }
  }
 },
 "nbformat": 4,
 "nbformat_minor": 2
}
